{
 "cells": [
  {
   "cell_type": "code",
   "execution_count": null,
   "metadata": {},
   "outputs": [],
   "source": [
    "import json\n",
    "import pandas as pd\n",
    "\n",
    "from datetime import datetime"
   ]
  },
  {
   "cell_type": "code",
   "execution_count": null,
   "metadata": {},
   "outputs": [],
   "source": [
    "# dataset home page: https://brasil.io/dataset/covid19/caso\n",
    "# csv listed at: https://data.brasil.io/dataset/covid19/_meta/list.html\n",
    "data = pd.read_csv(\"https://data.brasil.io/dataset/covid19/caso_full.csv.gz\")"
   ]
  },
  {
   "cell_type": "markdown",
   "metadata": {},
   "source": [
    "# 1. Inspect the data"
   ]
  },
  {
   "cell_type": "code",
   "execution_count": null,
   "metadata": {},
   "outputs": [],
   "source": [
    "data.info()"
   ]
  },
  {
   "cell_type": "code",
   "execution_count": null,
   "metadata": {},
   "outputs": [],
   "source": [
    "data['new_confirmed'].sum(), data['new_deaths'].sum()"
   ]
  },
  {
   "cell_type": "code",
   "execution_count": null,
   "metadata": {},
   "outputs": [],
   "source": [
    "data.groupby(['place_type']).size()"
   ]
  },
  {
   "cell_type": "code",
   "execution_count": null,
   "metadata": {},
   "outputs": [],
   "source": [
    "data.groupby(['is_repeated']).size()"
   ]
  },
  {
   "cell_type": "code",
   "execution_count": null,
   "metadata": {},
   "outputs": [],
   "source": [
    "data.loc[0:10, [\"date\", \"city\", \"state\", \"place_type\", \"is_repeated\", \"last_available_date\", \n",
    "               \"last_available_confirmed\", \"last_available_deaths\", \"new_confirmed\", \"new_deaths\"]]"
   ]
  },
  {
   "cell_type": "code",
   "execution_count": null,
   "metadata": {},
   "outputs": [],
   "source": [
    "data[data[\"state\"] == \"SP\"].loc[0:, [\"date\", \"city\", \"state\", \"last_available_confirmed\"]]"
   ]
  },
  {
   "cell_type": "code",
   "execution_count": null,
   "metadata": {},
   "outputs": [],
   "source": [
    "data[data[\"place_type\"] == \"state\"].groupby([\"date\"])[\"new_confirmed\", \"new_deaths\"].sum()"
   ]
  },
  {
   "cell_type": "code",
   "execution_count": null,
   "metadata": {},
   "outputs": [],
   "source": [
    "data[(data[\"state\"] == \"CE\") & (data[\"place_type\"] == \"state\")].groupby([\"date\"])[\"new_deaths\", \"last_available_deaths\", \"new_confirmed\", \n",
    "                                              \"last_available_confirmed\"].sum()"
   ]
  },
  {
   "cell_type": "code",
   "execution_count": null,
   "metadata": {},
   "outputs": [],
   "source": [
    "data.loc[(data[\"new_deaths\"] < 0) | (data[\"new_confirmed\"] < 0), \n",
    "         [\"date\", \"city\", \"last_available_date\", \"last_available_confirmed\", \"last_available_deaths\",  \"new_confirmed\", \"new_deaths\"]]"
   ]
  },
  {
   "cell_type": "markdown",
   "metadata": {},
   "source": [
    "# 3. Create `.json` with summarized data"
   ]
  },
  {
   "cell_type": "code",
   "execution_count": null,
   "metadata": {},
   "outputs": [],
   "source": [
    "data.rename(columns={\"last_available_deaths\": \"deaths\", \"last_available_confirmed\": \"confirmed\"}, inplace=True)"
   ]
  },
  {
   "cell_type": "code",
   "execution_count": null,
   "metadata": {},
   "outputs": [],
   "source": [
    "data_summary = data[data[\"place_type\"] == \"state\"].groupby(['state', 'date'])['deaths', 'confirmed'].sum().reset_index()\n",
    "\n",
    "data_summary[\"deaths\"] = data_summary[\"deaths\"].astype(int)\n",
    "data_summary[\"confirmed\"] = data_summary[\"confirmed\"].astype(int)"
   ]
  },
  {
   "cell_type": "code",
   "execution_count": null,
   "metadata": {},
   "outputs": [],
   "source": [
    "data_summary.set_index(\"date\", inplace=True)"
   ]
  },
  {
   "cell_type": "code",
   "execution_count": null,
   "metadata": {},
   "outputs": [],
   "source": [
    "data_summary.head(3)"
   ]
  },
  {
   "cell_type": "code",
   "execution_count": null,
   "metadata": {},
   "outputs": [],
   "source": [
    "data_summary.tail(10)"
   ]
  },
  {
   "cell_type": "code",
   "execution_count": null,
   "metadata": {},
   "outputs": [],
   "source": [
    "data_summary.loc[data_summary[\"state\"] == \"SP\", \"confirmed\"].values"
   ]
  },
  {
   "cell_type": "code",
   "execution_count": null,
   "metadata": {},
   "outputs": [],
   "source": [
    "data_summary.loc[data_summary[\"state\"] == \"SP\", \"deaths\"].values"
   ]
  },
  {
   "cell_type": "code",
   "execution_count": null,
   "metadata": {},
   "outputs": [],
   "source": [
    "output = [{\"state_name\": \"Acre\", \"state_code\": \"AC\", \"region\": \"N\", \"confirmed\":[], \"deaths\":[]},\n",
    "          {\"state_name\": \"Alagoas\", \"state_code\": \"AL\", \"region\": \"NE\", \"confirmed\":[], \"deaths\":[]},\n",
    "          {\"state_name\": \"Amazonas\", \"state_code\": \"AM\", \"region\": \"N\", \"confirmed\":[], \"deaths\":[]},\n",
    "          {\"state_name\": \"Amapá\", \"state_code\": \"AP\", \"region\": \"N\", \"confirmed\":[], \"deaths\":[]},\n",
    "          {\"state_name\": \"Bahia\", \"state_code\": \"BA\", \"region\": \"NE\", \"confirmed\":[], \"deaths\":[]},\n",
    "          {\"state_name\": \"Ceará\", \"state_code\": \"CE\", \"region\": \"NE\", \"confirmed\":[], \"deaths\":[]},\n",
    "          {\"state_name\": \"Distrito Federal\", \"state_code\": \"DF\", \"region\": \"CO\", \"confirmed\":[], \"deaths\":[]},\n",
    "          {\"state_name\": \"Espírito Santo\", \"state_code\": \"ES\", \"region\": \"SE\", \"confirmed\":[], \"deaths\":[]},\n",
    "          {\"state_name\": \"Goiás\", \"state_code\": \"GO\", \"region\": \"CO\", \"confirmed\":[], \"deaths\":[]},\n",
    "          {\"state_name\": \"Maranhão\", \"state_code\": \"MA\", \"region\": \"NE\", \"confirmed\":[], \"deaths\":[]},\n",
    "          {\"state_name\": \"Minas Gerais\", \"state_code\": \"MG\", \"region\": \"SE\", \"confirmed\":[], \"deaths\":[]},\n",
    "          {\"state_name\": \"Mato Grosso do Sul\", \"state_code\": \"MS\", \"region\": \"CO\", \"confirmed\":[], \"deaths\":[]},\n",
    "          {\"state_name\": \"Mato Grosso\", \"state_code\": \"MT\", \"region\": \"CO\", \"confirmed\":[], \"deaths\":[]},\n",
    "          {\"state_name\": \"Pará\", \"state_code\": \"PA\", \"region\": \"N\", \"confirmed\":[], \"deaths\":[]},\n",
    "          {\"state_name\": \"Paraíba\", \"state_code\": \"PB\", \"region\": \"NE\", \"confirmed\":[], \"deaths\":[]},\n",
    "          {\"state_name\": \"Pernambuco\", \"state_code\": \"PE\", \"region\": \"NE\", \"confirmed\":[], \"deaths\":[]},\n",
    "          {\"state_name\": \"Piauí\", \"state_code\": \"PI\", \"region\": \"NE\", \"confirmed\":[], \"deaths\":[]},\n",
    "          {\"state_name\": \"Paraná\", \"state_code\": \"PR\", \"region\": \"S\", \"confirmed\":[], \"deaths\":[]},\n",
    "          {\"state_name\": \"Rio de Janeiro\", \"state_code\": \"RJ\", \"region\": \"SE\", \"confirmed\":[], \"deaths\":[]},\n",
    "          {\"state_name\": \"Rio Grande do Norte\", \"state_code\": \"RN\", \"region\": \"NE\", \"confirmed\":[], \"deaths\":[]},\n",
    "          {\"state_name\": \"Rondônia\", \"state_code\": \"RO\", \"region\": \"N\", \"confirmed\":[], \"deaths\":[]},\n",
    "          {\"state_name\": \"Roraima\", \"state_code\": \"RR\", \"region\": \"N\", \"confirmed\":[], \"deaths\":[]},\n",
    "          {\"state_name\": \"Rio Grande do Sul\", \"state_code\": \"RS\", \"region\": \"S\", \"confirmed\":[], \"deaths\":[]},\n",
    "          {\"state_name\": \"Santa Catarina\", \"state_code\": \"SC\", \"region\": \"S\", \"confirmed\":[], \"deaths\":[]},          \n",
    "          {\"state_name\": \"Sergipe\", \"state_code\": \"SE\", \"region\": \"NE\", \"confirmed\":[], \"deaths\":[]},          \n",
    "          {\"state_name\": \"São Paulo\", \"state_code\": \"SP\", \"region\": \"SE\", \"confirmed\":[], \"deaths\":[]},          \n",
    "          {\"state_name\": \"Tocantins\", \"state_code\": \"TO\", \"region\": \"N\", \"confirmed\":[], \"deaths\":[]},                    \n",
    "         ]"
   ]
  },
  {
   "cell_type": "code",
   "execution_count": null,
   "metadata": {},
   "outputs": [],
   "source": [
    "for item in output:\n",
    "    code = item[\"state_code\"]\n",
    "    \n",
    "    dates_conf = data_summary.loc[data_summary[\"state\"] == code, \"confirmed\"].index\n",
    "    confirmed = data_summary.loc[data_summary[\"state\"] == code, \"confirmed\"].values\n",
    "    dates_deaths = data_summary.loc[data_summary[\"state\"] == code, \"deaths\"].index\n",
    "    deaths = data_summary.loc[data_summary[\"state\"] == code, \"deaths\"].values\n",
    "        \n",
    "    item[\"confirmed\"] = [[date, int(value)] for date, value in zip(dates_conf, confirmed)]\n",
    "    item[\"deaths\"] = [[date, int(value)] for date, value in zip(dates_deaths, deaths)]"
   ]
  },
  {
   "cell_type": "code",
   "execution_count": null,
   "metadata": {},
   "outputs": [],
   "source": [
    "print(output)"
   ]
  },
  {
   "cell_type": "code",
   "execution_count": null,
   "metadata": {},
   "outputs": [],
   "source": [
    "with open('state_summary.json', 'w') as f:\n",
    "    json.dump(output, f, indent=2)"
   ]
  },
  {
   "cell_type": "markdown",
   "metadata": {},
   "source": [
    "# 4. Update `index.html`"
   ]
  },
  {
   "cell_type": "code",
   "execution_count": null,
   "metadata": {},
   "outputs": [],
   "source": [
    "update_timestamp = datetime.strftime(datetime.today(), \"%Y-%m-%d %H:%M\")"
   ]
  },
  {
   "cell_type": "code",
   "execution_count": null,
   "metadata": {},
   "outputs": [],
   "source": [
    "html_str = f'''\n",
    "<!DOCTYPE html>\n",
    "<html lang=\"en-US\">\n",
    "  <head>\n",
    "    <meta charset=\"UTF-8\" />\n",
    "    <meta http-equiv=\"X-UA-Compatible\" content=\"IE=edge\" />\n",
    "    <meta name=\"viewport\" content=\"width=device-width, initial-scale=1\" />\n",
    "\n",
    "    <!-- Begin Jekyll SEO tag v2.6.1 -->\n",
    "    <title>COVID-19 no Brasil</title>\n",
    "    <meta name=\"generator\" content=\"Jekyll v3.8.5\" />\n",
    "    <meta property=\"og:title\" content=\"covid-19-brasil\" />\n",
    "    <meta property=\"og:locale\" content=\"en_US\" />\n",
    "    <link rel=\"canonical\" href=\"https://lucasrla.github.io/covid-19-brasil/\" />\n",
    "    <meta\n",
    "      property=\"og:url\"\n",
    "      content=\"https://lucasrla.github.io/covid-19-brasil/\"\n",
    "    />\n",
    "    <meta property=\"og:site_name\" content=\"covid-19-brasil\" />\n",
    "    <script type=\"application/ld+json\">\n",
    "      {{\n",
    "        \"headline\": \"Evolução do COVID-19 no Brasil\",\n",
    "        \"@type\": \"WebSite\",\n",
    "        \"url\": \"https://lucasrla.github.io/covid-19-brasil/\",\n",
    "        \"name\": \"covid-19-brasil\",\n",
    "        \"author\": \"Lucas Amaro\",\n",
    "        \"@context\": \"https://schema.org\"\n",
    "      }}\n",
    "    </script>\n",
    "    <!-- End Jekyll SEO tag -->\n",
    "\n",
    "    <link\n",
    "      rel=\"stylesheet\"\n",
    "      href=\"https://stackpath.bootstrapcdn.com/bootstrap/4.4.1/css/bootstrap.min.css\"\n",
    "      integrity=\"sha384-Vkoo8x4CGsO3+Hhxv8T/Q5PaXtkKtu6ug5TOeNV6gBiFeWPGFN9MuhOf23Q9Ifjh\"\n",
    "      crossorigin=\"anonymous\"\n",
    "    />\n",
    "  </head>\n",
    "  <body>\n",
    "    <div class=\"container-xl\">\n",
    "      <div class=\"mt-5 mb-5\">\n",
    "        <h1>COVID-19 Casos e Mortes no Brasil</h1>\n",
    "        <h2>Evolução por Estado</h2>\n",
    "        <h5>Última atualização: {update_timestamp}</h5>\n",
    "      </div>\n",
    "\n",
    "      <div id=\"observablehq-content\" class=\"mt-5\">\n",
    "        <div id=\"y_type\" class=\"mb-4\"></div>\n",
    "        <div id=\"pivot_n\" class=\"mb-4\"></div>\n",
    "        <div id=\"num_days\" class=\"mb-4\"></div>\n",
    "        <div id=\"doubling_periods\" class=\"mb-4\"></div>\n",
    "        <div id=\"selected_regions\" class=\"mb-4\"></div>\n",
    "        <div id=\"chart\" width=\"100%\"></div>\n",
    "        <div id=\"swatch\" class=\"mb-5\"></div>\n",
    "      </div>\n",
    "\n",
    "      <p>\n",
    "        Fonte:\n",
    "        <a href=\"https://brasil.io/dataset/covid19/caso\" target=\"_blank\"\n",
    "          >Secretarias de Saúde das Unidades Federativas, dados tratados por\n",
    "          Álvaro Justen / Brasil.IO</a\n",
    "        >\n",
    "      </p>\n",
    "\n",
    "      <div>\n",
    "        Avisos:\n",
    "        <ul>\n",
    "          <li>\n",
    "            A cada dia, casos e mortes reportadas pelas Secretarias de Saúde\n",
    "            (que utilizamos acima) podem estar em desincronia com os dados\n",
    "            informados pelo Ministério da Saúde em suas coletivas de imprensa.\n",
    "            Esses eventuais descasamentos entre as fontes são inevitáveis,\n",
    "            porém, felizmente, são temporários. É esperado que todas elas\n",
    "            convirjam.\n",
    "          </li>\n",
    "          <li>\n",
    "            Cada cidade tem sua própria metodologia e desafios (que variam no\n",
    "            tempo) para testar casos e para informar mortes suspeitas. Por isso,\n",
    "            tanto casos quanto mortes estão certamente sendo subestimados acima.\n",
    "          </li>\n",
    "          <li>\n",
    "            Caso tenha interesse nos dados de óbitos suspeitos e confirmados,\n",
    "            visite este\n",
    "            <a\n",
    "              href=\"https://transparencia.registrocivil.org.br/especial-covid\"\n",
    "              target=\"_blank\"\n",
    "              >site do Portal da Transparência</a\n",
    "            >. Lá estão os dados diários de todos os Cartórios de Registro Civil\n",
    "            do Brasil.\n",
    "          </li>\n",
    "        </ul>\n",
    "      </div>\n",
    "\n",
    "      <hr />\n",
    "\n",
    "      <p>\n",
    "        Código-fonte desta página está disponível em\n",
    "        <a href=\"https://github.com/lucasrla/covid-19-brasil\" target=\"_blank\"\n",
    "          >https://github.com/lucasrla/covid-19-brasil</a\n",
    "        >\n",
    "      </p>\n",
    "    </div>\n",
    "\n",
    "    <script type=\"module\">\n",
    "      import notebook from \"https://api.observablehq.com/@lucasrla/covid-19-casos-e-mortes-no-brasil.js?v=3\";\n",
    "\n",
    "      const target = document.querySelector(\"#observablehq-content\");\n",
    "\n",
    "      const renders = {{\n",
    "        \"viewof y_type\": \"#y_type\",\n",
    "        \"viewof pivot_n\": \"#pivot_n\",\n",
    "        \"viewof num_days\": \"#num_days\",\n",
    "        \"viewof doubling_periods\": \"#doubling_periods\",\n",
    "        \"viewof selected_regions\": \"#selected_regions\",\n",
    "        swatch: \"#swatch\",\n",
    "        chart: \"#chart\",\n",
    "      }};\n",
    "\n",
    "      import {{\n",
    "        Inspector,\n",
    "        Runtime,\n",
    "      }} from \"https://cdn.jsdelivr.net/npm/@observablehq/runtime@4/dist/runtime.js\";\n",
    "\n",
    "      console.log(renders);\n",
    "\n",
    "      //ref1: https://visionscarto.net/observable-jekyll/\n",
    "      //ref2: https://talk.observablehq.com/t/embedding-with-runtime-load-seems-to-no-longer-load-reference-dependencies/1617/4\n",
    "      const runtime = new Runtime();\n",
    "      const main = runtime.module(notebook, (name) => {{\n",
    "        const elmSelector = renders[name];\n",
    "        if (elmSelector) {{\n",
    "          return new Inspector(document.querySelector(elmSelector));\n",
    "        }}\n",
    "      }});\n",
    "    </script>\n",
    "  </body>\n",
    "</html>\n",
    "'''"
   ]
  },
  {
   "cell_type": "code",
   "execution_count": null,
   "metadata": {},
   "outputs": [],
   "source": [
    "with open(\"index.html\", \"w\") as f:\n",
    "    f.write(html_str)"
   ]
  }
 ],
 "metadata": {
  "kernelspec": {
   "display_name": "Python (tcc)",
   "language": "python",
   "name": "tcc"
  },
  "language_info": {
   "codemirror_mode": {
    "name": "ipython",
    "version": 3
   },
   "file_extension": ".py",
   "mimetype": "text/x-python",
   "name": "python",
   "nbconvert_exporter": "python",
   "pygments_lexer": "ipython3",
   "version": "3.7.3"
  }
 },
 "nbformat": 4,
 "nbformat_minor": 2
}
